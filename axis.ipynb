{
 "cells": [
  {
   "cell_type": "markdown",
   "id": "eade73d7",
   "metadata": {},
   "source": [
    "Axis"
   ]
  },
  {
   "cell_type": "code",
   "execution_count": 7,
   "id": "463928da",
   "metadata": {},
   "outputs": [
    {
     "name": "stdout",
     "output_type": "stream",
     "text": [
      "[[1 2 3]\n",
      " [4 5 6]\n",
      " [7 8 9]]\n",
      "2\n",
      "[12 15 18]\n",
      "[ 6 15 24]\n"
     ]
    }
   ],
   "source": [
    "# # first dimensional -> axis = 0\n",
    "# # second dimensional -> axis = 1\n",
    "# # third dimensional -> axis = 2\n",
    "# Nth dimensional -> axis = N-1\n",
    "\n",
    "\n",
    "import numpy as np\n",
    "\n",
    "axis_array = np.array( \n",
    "    [[1, 2, 3], \n",
    "     [4, 5, 6],\n",
    "       [7, 8, 9]])\n",
    "print(axis_array)\n",
    "print(axis_array.ndim)  # (3, 3) -> 2D array with 3 rows and 3 columns\n",
    "print (np.sum(axis_array, axis=0))  # sum of each column\n",
    "print (np.sum(axis_array, axis=1))  # sum of each row"
   ]
  }
 ],
 "metadata": {
  "kernelspec": {
   "display_name": "Python 3",
   "language": "python",
   "name": "python3"
  },
  "language_info": {
   "codemirror_mode": {
    "name": "ipython",
    "version": 3
   },
   "file_extension": ".py",
   "mimetype": "text/x-python",
   "name": "python",
   "nbconvert_exporter": "python",
   "pygments_lexer": "ipython3",
   "version": "3.13.1"
  }
 },
 "nbformat": 4,
 "nbformat_minor": 5
}
