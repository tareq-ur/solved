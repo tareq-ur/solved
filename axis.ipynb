{
 "cells": [
  {
   "cell_type": "markdown",
   "id": "eade73d7",
   "metadata": {},
   "source": [
    "Axis"
   ]
  },
  {
   "cell_type": "code",
   "execution_count": 13,
   "id": "463928da",
   "metadata": {},
   "outputs": [
    {
     "name": "stdout",
     "output_type": "stream",
     "text": [
      "[12 15 18]\n"
     ]
    }
   ],
   "source": [
    "# # # first dimensional -> axis = 0\n",
    "# # # second dimensional -> axis = 1\n",
    "# # # third dimensional -> axis = 2\n",
    "# # Nth dimensional -> axis = N-1\n",
    "\n",
    "\n",
    "import numpy as np\n",
    "\n",
    "axis_array = np.array( \n",
    "    [[1, 2, 3], \n",
    "     [4, 5, 6],\n",
    "       [7, 8, 9]])\n",
    "# print(axis_array)\n",
    "# print(axis_array.ndim)  # (3, 3) -> 2D array with 3 rows and 3 columns\n",
    "print (np.sum(axis_array, axis=0))  # sum of each column\n",
    "# # print (np.sum(axis_array, axis=1))  # sum of each row\n",
    "\n",
    "\n"
   ]
  },
  {
   "cell_type": "code",
   "execution_count": 4,
   "id": "212b5e93",
   "metadata": {},
   "outputs": [
    {
     "name": "stdout",
     "output_type": "stream",
     "text": [
      "['apple', 'banana', 'cow', 'ox']\n"
     ]
    }
   ],
   "source": [
    "my_list1=['ox','apple','cow','banana']\n",
    "listed=my_list1.sort()\n",
    "print(my_list1)"
   ]
  },
  {
   "cell_type": "code",
   "execution_count": 24,
   "id": "29881775",
   "metadata": {},
   "outputs": [
    {
     "name": "stdout",
     "output_type": "stream",
     "text": [
      "[1, 4, 5, 7, 8, 9, 0, 0, 0, 0]\n"
     ]
    }
   ],
   "source": [
    "my_number = [1, 0, 9, 0, 5, 0, 7,0, 8, 4]\n",
    "my_number.sort()\n",
    "# print(my_number)\n",
    "def my_function(my_number):\n",
    "    non_zero = [ x for x in my_number\n",
    "                 if x != 0]\n",
    "    zero = [0] * (len(my_number) - len(non_zero))\n",
    "    return non_zero + zero\n",
    "print(my_function(my_number))\n",
    "      \n",
    "\n"
   ]
  },
  {
   "cell_type": "code",
   "execution_count": 31,
   "id": "d2ddfa8b",
   "metadata": {},
   "outputs": [
    {
     "name": "stdout",
     "output_type": "stream",
     "text": [
      "[1, 4, 5, 7, 8, 9, 0, 0, 0, 0]\n"
     ]
    }
   ],
   "source": [
    "my_number = [1, 0, 9, 0, 5, 0, 7,0, 8, 4]\n",
    "my_number.sort()\n",
    "def my_function(my_number):\n",
    "    non_zero = [ x for x in my_number\n",
    "                 if x != 0]\n",
    "    zero = [0] * (len(my_number) - len(non_zero))\n",
    "    return non_zero + zero\n",
    "print(my_function(my_number))"
   ]
  },
  {
   "cell_type": "code",
   "execution_count": 2,
   "id": "bd2cd85b",
   "metadata": {},
   "outputs": [
    {
     "name": "stdout",
     "output_type": "stream",
     "text": [
      "['BMW', 'Ford', 'Volvo']\n"
     ]
    }
   ],
   "source": [
    "cars = ['Ford', 'BMW', 'Volvo']\n",
    "\n",
    "cars.sort()\n",
    "\n",
    "print(cars)"
   ]
  }
 ],
 "metadata": {
  "kernelspec": {
   "display_name": "Python 3",
   "language": "python",
   "name": "python3"
  },
  "language_info": {
   "codemirror_mode": {
    "name": "ipython",
    "version": 3
   },
   "file_extension": ".py",
   "mimetype": "text/x-python",
   "name": "python",
   "nbconvert_exporter": "python",
   "pygments_lexer": "ipython3",
   "version": "3.13.1"
  }
 },
 "nbformat": 4,
 "nbformat_minor": 5
}
