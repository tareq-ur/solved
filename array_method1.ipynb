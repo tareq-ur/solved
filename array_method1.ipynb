{
 "cells": [
  {
   "cell_type": "markdown",
   "id": "be1876c1",
   "metadata": {},
   "source": [
    "Dot product"
   ]
  },
  {
   "cell_type": "code",
   "execution_count": 7,
   "id": "0c0029b0",
   "metadata": {},
   "outputs": [
    {
     "name": "stdout",
     "output_type": "stream",
     "text": [
      "Dot product of two arrays is:  32\n"
     ]
    }
   ],
   "source": [
    "#Dot product\n",
    "import numpy as np\n",
    "dot_product = np.array([1, 2, 3])\n",
    "dot_product1 = np.array([4, 5, 6])\n",
    "                   \n",
    "dot_product = np.dot(dot_product, dot_product1)\n",
    "print(\"Dot product of two arrays is: \", dot_product)\n",
    "\n",
    "\n"
   ]
  },
  {
   "cell_type": "markdown",
   "id": "1cf2c94d",
   "metadata": {},
   "source": [
    "Matrix Transpose\n"
   ]
  },
  {
   "cell_type": "code",
   "execution_count": 16,
   "id": "5ea7fca2",
   "metadata": {},
   "outputs": [
    {
     "name": "stdout",
     "output_type": "stream",
     "text": [
      "[[1 4]\n",
      " [2 5]\n",
      " [3 6]]\n"
     ]
    }
   ],
   "source": [
    "Matrix_Transpose = np.array( \n",
    "   [ [1, 2, 3],\n",
    "      [4, 5, 6]])\n",
    "print(Matrix_Transpose.transpose())\n",
    "# print(\"Transpose of the matrix is: \", Matrix_Transpose)\n"
   ]
  }
 ],
 "metadata": {
  "kernelspec": {
   "display_name": "Python 3",
   "language": "python",
   "name": "python3"
  },
  "language_info": {
   "codemirror_mode": {
    "name": "ipython",
    "version": 3
   },
   "file_extension": ".py",
   "mimetype": "text/x-python",
   "name": "python",
   "nbconvert_exporter": "python",
   "pygments_lexer": "ipython3",
   "version": "3.13.1"
  }
 },
 "nbformat": 4,
 "nbformat_minor": 5
}
