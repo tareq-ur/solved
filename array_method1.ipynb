{
 "cells": [
  {
   "cell_type": "markdown",
   "id": "be1876c1",
   "metadata": {},
   "source": [
    "Dot product"
   ]
  },
  {
   "cell_type": "code",
   "execution_count": 17,
   "id": "0c0029b0",
   "metadata": {},
   "outputs": [
    {
     "name": "stdout",
     "output_type": "stream",
     "text": [
      "Dot product of two arrays is:  32\n"
     ]
    }
   ],
   "source": [
    "#Dot product\n",
    "import numpy as np\n",
    "dot_product = np.array([1, 2, 3])\n",
    "dot_product1 = np.array([4, 5, 6])\n",
    "                   \n",
    "dot_product = np.dot(dot_product, dot_product1)\n",
    "print(\"Dot product of two arrays is: \", dot_product)\n",
    "\n",
    "\n"
   ]
  },
  {
   "cell_type": "markdown",
   "id": "1cf2c94d",
   "metadata": {},
   "source": [
    "Matrix Transpose\n"
   ]
  },
  {
   "cell_type": "code",
   "execution_count": 18,
   "id": "5ea7fca2",
   "metadata": {},
   "outputs": [
    {
     "name": "stdout",
     "output_type": "stream",
     "text": [
      "[[1 4]\n",
      " [2 5]\n",
      " [3 6]]\n"
     ]
    }
   ],
   "source": [
    "Matrix_Transpose = np.array( \n",
    "   [ [1, 2, 3],\n",
    "      [4, 5, 6]])\n",
    "print(Matrix_Transpose.transpose())\n",
    "# print(\"Transpose of the matrix is: \", Matrix_Transpose)\n"
   ]
  },
  {
   "cell_type": "markdown",
   "id": "621a0563",
   "metadata": {},
   "source": [
    "Mean"
   ]
  },
  {
   "cell_type": "code",
   "execution_count": null,
   "id": "b7e2de2a",
   "metadata": {},
   "outputs": [
    {
     "name": "stdout",
     "output_type": "stream",
     "text": [
      "5.0\n"
     ]
    }
   ],
   "source": [
    "#Mean => average of the numbers\n",
    "mean = np.array([3.5, 4.5, 5.5, 6.5])\n",
    "mean = np.mean(mean)\n",
    "print(mean)"
   ]
  },
  {
   "cell_type": "markdown",
   "id": "7714f8dd",
   "metadata": {},
   "source": [
    "Median"
   ]
  },
  {
   "cell_type": "code",
   "execution_count": null,
   "id": "a0b631f6",
   "metadata": {},
   "outputs": [
    {
     "name": "stdout",
     "output_type": "stream",
     "text": [
      "5.0\n"
     ]
    }
   ],
   "source": [
    "#Median => middle value of the numbers but before that we need to sort the numbers\n",
    "#median is a notgood\n",
    "median = np.array([3.5, 4.5, 5.5, 6.5])\n",
    "median = np.median(median)\n",
    "print(median)"
   ]
  },
  {
   "cell_type": "markdown",
   "id": "7d163070",
   "metadata": {},
   "source": [
    "Standerd devition"
   ]
  },
  {
   "cell_type": "code",
   "execution_count": null,
   "id": "25943618",
   "metadata": {},
   "outputs": [
    {
     "name": "stdout",
     "output_type": "stream",
     "text": [
      "1.118033988749895\n"
     ]
    }
   ],
   "source": [
    "#standard deviation => measure of the amount of variation or dispersion of a set of values\n",
    "#standard deviation is a good measure of the spread of the data \n",
    "standard_deviation = np.array([3.5, 4.5, 5.5, 6.5])\n",
    "print( np.std(standard_deviation))\n"
   ]
  },
  {
   "cell_type": "markdown",
   "id": "942baa83",
   "metadata": {},
   "source": [
    "Vectorization"
   ]
  },
  {
   "cell_type": "code",
   "execution_count": null,
   "id": "22b487bb",
   "metadata": {},
   "outputs": [
    {
     "name": "stdout",
     "output_type": "stream",
     "text": [
      "[6 7 8]\n"
     ]
    }
   ],
   "source": [
    "#vactorization => is a process of converting a function into a vector form. vactiorization must better performance than the for loop. loop is slow and vactorization is fast.\n",
    "\n",
    "veactor = np.array([1, 2, 3])\n",
    "veactor1 = veactor + 5\n",
    "print(veactor1)"
   ]
  },
  {
   "cell_type": "markdown",
   "id": "4fc49c53",
   "metadata": {},
   "source": [
    "Broadcasting"
   ]
  },
  {
   "cell_type": "code",
   "execution_count": null,
   "id": "fc5ce7ab",
   "metadata": {},
   "outputs": [
    {
     "name": "stdout",
     "output_type": "stream",
     "text": [
      "[ 4 10 18]\n"
     ]
    }
   ],
   "source": [
    "# broadcasting => is a process of converting one data type into another data type. for example, if we have an array of integers and we want to convert \n",
    "# it into an array of floats, we can use broadcasting.\n",
    "# Broadcasting is a powerful mechanism that allows NumPy to work with arrays of different shapes when performing arithmetic operations.\n",
    "# It automatically expands the smaller array across the larger array so that they have compatible shapes.\n",
    "# Broadcasting is useful for vectorized operations and can lead to more efficient code.\n",
    "# It is important to note that broadcasting only works when the dimensions of the arrays are compatible.\n",
    "# If the dimensions are not compatible, NumPy will raise a ValueError.\n",
    "\n",
    "\n",
    "broadcasting = np.array([1, 2, 3])\n",
    "broadcasting1 = np.array([4, 5, 6])\n",
    "print(broadcasting * broadcasting1)\n"
   ]
  }
 ],
 "metadata": {
  "kernelspec": {
   "display_name": "Python 3",
   "language": "python",
   "name": "python3"
  },
  "language_info": {
   "codemirror_mode": {
    "name": "ipython",
    "version": 3
   },
   "file_extension": ".py",
   "mimetype": "text/x-python",
   "name": "python",
   "nbconvert_exporter": "python",
   "pygments_lexer": "ipython3",
   "version": "3.13.1"
  }
 },
 "nbformat": 4,
 "nbformat_minor": 5
}
