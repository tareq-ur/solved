{
 "cells": [
  {
   "cell_type": "markdown",
   "id": "b209f3d1",
   "metadata": {},
   "source": [
    "Boolean Mask"
   ]
  },
  {
   "cell_type": "code",
   "execution_count": 2,
   "id": "1ea2d6f9",
   "metadata": {},
   "outputs": [
    {
     "name": "stdout",
     "output_type": "stream",
     "text": [
      "[ 1  3  5 90]\n"
     ]
    }
   ],
   "source": [
    "import numpy as np\n",
    "\n",
    "my_array = np.array([1, 2, 3, 4, 5,90,43])\n",
    "filtered_mask = [True, False, True, False, True, True, False]  # This mask should match the length of my_array\n",
    "filtered_array = my_array[filtered_mask]\n",
    "# The filtered_array will contain only the elements where the mask is True\n",
    "print(filtered_array)  # Output: [1 3 5]"
   ]
  },
  {
   "cell_type": "markdown",
   "id": "1ffabc3c",
   "metadata": {},
   "source": [
    "Condition Filtering"
   ]
  },
  {
   "cell_type": "code",
   "execution_count": 18,
   "id": "0776751c",
   "metadata": {},
   "outputs": [
    {
     "name": "stdout",
     "output_type": "stream",
     "text": [
      "[False  True False  True False  True False]\n",
      "[ 2  4 90]\n"
     ]
    }
   ],
   "source": [
    "Condintional_array = (my_array % 2 == 0) \n",
    "print(Condintional_array) \n",
    "# print(my_array %2==0) # Output: [False  True False  True False False False]\n",
    "result = my_array[Condintional_array]  # This will give you the even numbers from my_array\n",
    "print(result)  # Output: [2 4]\n",
    " "
   ]
  },
  {
   "cell_type": "code",
   "execution_count": 19,
   "id": "867d2f8b",
   "metadata": {},
   "outputs": [
    {
     "name": "stdout",
     "output_type": "stream",
     "text": [
      "[6, 8, 12]\n"
     ]
    }
   ],
   "source": [
    "class Solution:\n",
    "    def productExceptSelf(self, nums:[4,3,2]):\n",
    "        n = len(nums)\n",
    "        output = [1]*n\n",
    "\n",
    "        left, right = 1, 1\n",
    "        for i in range(n):\n",
    "            output[i] *= left\n",
    "            left *= nums[i]\n",
    "            output[-1-i] *= right\n",
    "            right *= nums[-1-i]  \n",
    "\n",
    "        return output\n",
    "print(Solution().productExceptSelf([4,3,2]))  # Output: [6, 8, 12]"
   ]
  },
  {
   "cell_type": "markdown",
   "id": "4545c69c",
   "metadata": {},
   "source": []
  }
 ],
 "metadata": {
  "kernelspec": {
   "display_name": "Python 3",
   "language": "python",
   "name": "python3"
  },
  "language_info": {
   "codemirror_mode": {
    "name": "ipython",
    "version": 3
   },
   "file_extension": ".py",
   "mimetype": "text/x-python",
   "name": "python",
   "nbconvert_exporter": "python",
   "pygments_lexer": "ipython3",
   "version": "3.13.1"
  }
 },
 "nbformat": 4,
 "nbformat_minor": 5
}
