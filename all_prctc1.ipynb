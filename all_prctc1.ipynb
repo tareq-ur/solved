{
 "cells": [
  {
   "cell_type": "markdown",
   "id": "d3da0e28",
   "metadata": {},
   "source": [
    "dtype, ndim , shape,"
   ]
  },
  {
   "cell_type": "code",
   "execution_count": 8,
   "id": "57349e0d",
   "metadata": {},
   "outputs": [
    {
     "name": "stdout",
     "output_type": "stream",
     "text": [
      "2\n",
      "int64\n",
      "(3, 3)\n"
     ]
    }
   ],
   "source": [
    "import numpy as np\n",
    "dtype_array = np.array(\n",
    "   [ [1, 2, 3],\n",
    "    [3, 2, 1],\n",
    "    [2, 1, 3]]\n",
    ")\n",
    "print(dtype_array.ndim)\n",
    "print(dtype_array.dtype)\n",
    "print(dtype_array.shape)"
   ]
  },
  {
   "cell_type": "markdown",
   "id": "69467469",
   "metadata": {},
   "source": [
    "Create an array with all zeros and ones\n"
   ]
  },
  {
   "cell_type": "code",
   "execution_count": 21,
   "id": "518bb6fa",
   "metadata": {},
   "outputs": [
    {
     "name": "stdout",
     "output_type": "stream",
     "text": [
      "[[0. 0. 0.]\n",
      " [0. 0. 0.]\n",
      " [0. 0. 0.]]\n",
      "(3, 3)\n",
      "[[1. 1. 1.]\n",
      " [1. 1. 1.]\n",
      " [1. 1. 1.]]\n",
      "(3, 3)\n"
     ]
    }
   ],
   "source": [
    "zero_array = np.zeros((3, 3))\n",
    "print(zero_array)  \n",
    "print(zero_array.shape)\n",
    "\n",
    "one_array = np.ones((3, 3))\n",
    "print(one_array)\n",
    "print(one_array.shape)"
   ]
  },
  {
   "cell_type": "markdown",
   "id": "930b39f1",
   "metadata": {},
   "source": [
    "create a array with spacific value"
   ]
  },
  {
   "cell_type": "code",
   "execution_count": 22,
   "id": "058d0950",
   "metadata": {},
   "outputs": [
    {
     "name": "stdout",
     "output_type": "stream",
     "text": [
      "[[5 5 5]\n",
      " [5 5 5]\n",
      " [5 5 5]]\n"
     ]
    }
   ],
   "source": [
    "sp_array = np.full(\n",
    "    shape = (3, 3),\n",
    "    fill_value = 5,\n",
    ")\n",
    "print(sp_array)"
   ]
  },
  {
   "cell_type": "markdown",
   "id": "7dc208bc",
   "metadata": {},
   "source": [
    "create an identity matrix"
   ]
  },
  {
   "cell_type": "code",
   "execution_count": 23,
   "id": "2a3c596d",
   "metadata": {},
   "outputs": [
    {
     "name": "stdout",
     "output_type": "stream",
     "text": [
      "[[1. 0. 0.]\n",
      " [0. 1. 0.]\n",
      " [0. 0. 1.]]\n"
     ]
    }
   ],
   "source": [
    "iden_array = np.eye(3)\n",
    "print(iden_array)"
   ]
  },
  {
   "cell_type": "markdown",
   "id": "6627c605",
   "metadata": {},
   "source": [
    "create a sequential number "
   ]
  },
  {
   "cell_type": "code",
   "execution_count": 25,
   "id": "87da8a77",
   "metadata": {},
   "outputs": [
    {
     "name": "stdout",
     "output_type": "stream",
     "text": [
      "[0 1 2 3 4 5 6 7 8 9]\n"
     ]
    }
   ],
   "source": [
    "seq_array = np.arange(\n",
    "    start = 0,\n",
    "    stop = 10,\n",
    "    step = 1,\n",
    ")\n",
    "print(seq_array)"
   ]
  },
  {
   "cell_type": "markdown",
   "id": "9f2d9306",
   "metadata": {},
   "source": [
    "create a linspace array "
   ]
  },
  {
   "cell_type": "code",
   "execution_count": 28,
   "id": "297a1adc",
   "metadata": {},
   "outputs": [
    {
     "name": "stdout",
     "output_type": "stream",
     "text": [
      "[ 0.   2.5  5.   7.5 10. ]\n"
     ]
    }
   ],
   "source": [
    "lin_array = np.linspace(\n",
    "    start = 0,\n",
    "    stop = 10,\n",
    "    num = 5,\n",
    ")   \n",
    "print(lin_array)\n"
   ]
  },
  {
   "cell_type": "markdown",
   "id": "48171e78",
   "metadata": {},
   "source": [
    "slice in array"
   ]
  },
  {
   "cell_type": "code",
   "execution_count": 31,
   "id": "da893fd2",
   "metadata": {},
   "outputs": [
    {
     "name": "stdout",
     "output_type": "stream",
     "text": [
      "[[2 3]\n",
      " [2 1]]\n"
     ]
    }
   ],
   "source": [
    "slice_array = np.array (\n",
    "    [ [1, 2, 3],\n",
    "     [3, 2, 1],\n",
    "     [2, 1, 3]]\n",
    ")\n",
    "print(slice_array[0:2, 1:3]) # 2"
   ]
  },
  {
   "cell_type": "markdown",
   "id": "e3e9896d",
   "metadata": {},
   "source": [
    "Reshape"
   ]
  },
  {
   "cell_type": "code",
   "execution_count": 32,
   "id": "3d06fbb9",
   "metadata": {},
   "outputs": [
    {
     "name": "stdout",
     "output_type": "stream",
     "text": [
      "[[1 2 3 5 3]\n",
      " [2 1 7 2 1]\n",
      " [3 9 3 5 7]\n",
      " [8 3 4 6 8]]\n"
     ]
    }
   ],
   "source": [
    "reshape_array = np.array(\n",
    "    [ [1, 2, 3, 5],\n",
    "     [3, 2, 1, 7],\n",
    "     [2, 1, 3, 9],\n",
    "     [3, 5, 7, 8],\n",
    "     [3, 4, 6, 8]]\n",
    ")\n",
    "print(reshape_array.reshape(4,5)) # 1x9"
   ]
  },
  {
   "cell_type": "markdown",
   "id": "de637746",
   "metadata": {},
   "source": [
    "Sort and reverse sort"
   ]
  },
  {
   "cell_type": "code",
   "execution_count": null,
   "id": "9bf1aa88",
   "metadata": {},
   "outputs": [
    {
     "name": "stdout",
     "output_type": "stream",
     "text": [
      "[0 0 0 0 1 1 2 3 4 4 5 5 5 6 7 7 8]\n",
      "[1 0 0 0]\n"
     ]
    }
   ],
   "source": [
    "sort_array = np.array([6,8,7,5,0,4,3,2,1,5,0,7,0,5,4,0,1])\n",
    "sort_array.sort()\n",
    "print(sort_array) \n",
    "\n",
    "reverse_sort = sort_array\n",
    "print(reverse_sort[::-1]) "
   ]
  }
 ],
 "metadata": {
  "kernelspec": {
   "display_name": "Python 3",
   "language": "python",
   "name": "python3"
  },
  "language_info": {
   "codemirror_mode": {
    "name": "ipython",
    "version": 3
   },
   "file_extension": ".py",
   "mimetype": "text/x-python",
   "name": "python",
   "nbconvert_exporter": "python",
   "pygments_lexer": "ipython3",
   "version": "3.13.1"
  }
 },
 "nbformat": 4,
 "nbformat_minor": 5
}
