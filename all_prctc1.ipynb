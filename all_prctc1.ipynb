{
 "cells": [
  {
   "cell_type": "markdown",
   "id": "d3da0e28",
   "metadata": {},
   "source": [
    "dtype, ndim , shape,"
   ]
  },
  {
   "cell_type": "code",
   "execution_count": 148,
   "id": "57349e0d",
   "metadata": {},
   "outputs": [
    {
     "name": "stdout",
     "output_type": "stream",
     "text": [
      "2\n",
      "int64\n",
      "(3, 3)\n"
     ]
    }
   ],
   "source": [
    "import numpy as np\n",
    "dtype_array = np.array(\n",
    "   [ [1, 2, 3],\n",
    "    [3, 2, 1],\n",
    "    [2, 1, 3]\n",
    "    ]\n",
    ")\n",
    "print(dtype_array.ndim)\n",
    "print(dtype_array.dtype)\n",
    "print(dtype_array.shape)"
   ]
  },
  {
   "cell_type": "markdown",
   "id": "69467469",
   "metadata": {},
   "source": [
    "Create an array with all zeros and ones\n"
   ]
  },
  {
   "cell_type": "code",
   "execution_count": 149,
   "id": "518bb6fa",
   "metadata": {},
   "outputs": [
    {
     "name": "stdout",
     "output_type": "stream",
     "text": [
      "[[0 0 0]\n",
      " [0 0 0]\n",
      " [0 0 0]]\n",
      "(3, 3)\n",
      "[[1. 1. 1.]\n",
      " [1. 1. 1.]\n",
      " [1. 1. 1.]]\n",
      "(3, 3)\n"
     ]
    }
   ],
   "source": [
    "zero_array = np.zeros((3, 3), dtype=int)\n",
    "print(zero_array)  \n",
    "print(zero_array.shape)\n",
    "\n",
    "\n",
    "one_array = np.ones((3, 3))\n",
    "print(one_array)\n",
    "print(one_array.shape)"
   ]
  },
  {
   "cell_type": "markdown",
   "id": "930b39f1",
   "metadata": {},
   "source": [
    "create a array with spacific value"
   ]
  },
  {
   "cell_type": "code",
   "execution_count": 126,
   "id": "058d0950",
   "metadata": {},
   "outputs": [
    {
     "name": "stdout",
     "output_type": "stream",
     "text": [
      "[[5 5 5]\n",
      " [5 5 5]\n",
      " [5 5 5]]\n"
     ]
    }
   ],
   "source": [
    "sp_array = np.full(\n",
    "    shape = (3, 3),\n",
    "    fill_value = 5,\n",
    ")\n",
    "print(sp_array)"
   ]
  },
  {
   "cell_type": "markdown",
   "id": "7dc208bc",
   "metadata": {},
   "source": [
    "create an identity matrix"
   ]
  },
  {
   "cell_type": "code",
   "execution_count": 127,
   "id": "2a3c596d",
   "metadata": {},
   "outputs": [
    {
     "name": "stdout",
     "output_type": "stream",
     "text": [
      "[[1. 0. 0.]\n",
      " [0. 1. 0.]\n",
      " [0. 0. 1.]]\n"
     ]
    }
   ],
   "source": [
    "iden_array = np.eye(3)\n",
    "print(iden_array)"
   ]
  },
  {
   "cell_type": "markdown",
   "id": "6627c605",
   "metadata": {},
   "source": [
    "create a sequential number "
   ]
  },
  {
   "cell_type": "code",
   "execution_count": 128,
   "id": "87da8a77",
   "metadata": {},
   "outputs": [
    {
     "name": "stdout",
     "output_type": "stream",
     "text": [
      "[0 1 2 3 4 5 6 7 8 9]\n"
     ]
    }
   ],
   "source": [
    "seq_array = np.arange(\n",
    "    start = 0,\n",
    "    stop = 10,\n",
    "    step = 1,\n",
    ")\n",
    "print(seq_array)"
   ]
  },
  {
   "cell_type": "markdown",
   "id": "9f2d9306",
   "metadata": {},
   "source": [
    "create a linspace array "
   ]
  },
  {
   "cell_type": "code",
   "execution_count": 129,
   "id": "297a1adc",
   "metadata": {},
   "outputs": [
    {
     "name": "stdout",
     "output_type": "stream",
     "text": [
      "[ 0.   2.5  5.   7.5 10. ]\n"
     ]
    }
   ],
   "source": [
    "lin_array = np.linspace(\n",
    "    start = 0,\n",
    "    stop = 10,\n",
    "    num = 5,\n",
    ")   \n",
    "print(lin_array)\n"
   ]
  },
  {
   "cell_type": "markdown",
   "id": "48171e78",
   "metadata": {},
   "source": [
    "slice in array"
   ]
  },
  {
   "cell_type": "code",
   "execution_count": 130,
   "id": "da893fd2",
   "metadata": {},
   "outputs": [
    {
     "name": "stdout",
     "output_type": "stream",
     "text": [
      "[[2 3]\n",
      " [2 1]]\n"
     ]
    }
   ],
   "source": [
    "slice_array = np.array (\n",
    "    [ [1, 2, 3],\n",
    "     [3, 2, 1],\n",
    "     [2, 1, 3]]\n",
    ")\n",
    "print(slice_array[0:2, 1:3]) # 2"
   ]
  },
  {
   "cell_type": "markdown",
   "id": "e3e9896d",
   "metadata": {},
   "source": [
    "Reshape"
   ]
  },
  {
   "cell_type": "code",
   "execution_count": 131,
   "id": "3d06fbb9",
   "metadata": {},
   "outputs": [
    {
     "name": "stdout",
     "output_type": "stream",
     "text": [
      "[[1 2 3 5 3]\n",
      " [2 1 7 2 1]\n",
      " [3 9 3 5 7]\n",
      " [8 3 4 6 8]]\n"
     ]
    }
   ],
   "source": [
    "reshape_array = np.array(\n",
    "    [ [1, 2, 3, 5],\n",
    "     [3, 2, 1, 7],\n",
    "     [2, 1, 3, 9],\n",
    "     [3, 5, 7, 8],\n",
    "     [3, 4, 6, 8]]\n",
    ")\n",
    "print(reshape_array.reshape(4,5)) # 1x9"
   ]
  },
  {
   "cell_type": "markdown",
   "id": "de637746",
   "metadata": {},
   "source": [
    "Sort and reverse sort"
   ]
  },
  {
   "cell_type": "code",
   "execution_count": 132,
   "id": "9bf1aa88",
   "metadata": {},
   "outputs": [
    {
     "name": "stdout",
     "output_type": "stream",
     "text": [
      "[0 0 0 0 1 1 2 3 4 4 5 5 5 6 7 7 8]\n",
      "[8 7 7 6 5 5 5 4 4 3 2 1 1 0 0 0 0]\n"
     ]
    }
   ],
   "source": [
    "sort_array = np.array([6,8,7,5,0,4,3,2,1,5,0,7,0,5,4,0,1])\n",
    "sort_array.sort()\n",
    "print(sort_array) \n",
    "\n",
    "reverse_sort = sort_array\n",
    "print(reverse_sort[::-1]) "
   ]
  },
  {
   "cell_type": "markdown",
   "id": "a1198088",
   "metadata": {},
   "source": [
    "Argmax And Argmin"
   ]
  },
  {
   "cell_type": "code",
   "execution_count": 133,
   "id": "7bdf99ba",
   "metadata": {},
   "outputs": [
    {
     "name": "stdout",
     "output_type": "stream",
     "text": [
      "1\n",
      "3\n",
      "0\n",
      "2\n"
     ]
    }
   ],
   "source": [
    "#Argmax \n",
    "argmax_array = np.array([[1, 8, 3],\n",
    "                        [3, 2, 2],\n",
    "                        [2, 3, 3]])\n",
    "argmax_array= np.argmax(argmax_array)\n",
    "print(argmax_array) # 2D => it's working in coloumn wise  \n",
    "\n",
    "\n",
    "\n",
    "argmax_array1 = np.array([1, 318, 3, 343, 56, 78, 90, 112, 34, 56, 78, 93])\n",
    "argmax_array1= np.argmax(argmax_array1)\n",
    "print(argmax_array1) # 1D => it's working in array wise\n",
    "\n",
    "\n",
    "\n",
    "\n",
    "\n",
    "#Argmin\n",
    "argmin_array = np.array([[1, 8, 3],\n",
    "                        [3, 2, 2],\n",
    "                        [2, 3, 3]])\n",
    "argmin_array= np.argmin(argmin_array)\n",
    "print(argmin_array) # 2D => it's working in coloumn wise\n",
    "\n",
    "argmin_array1 = np.array([21, 318, 3, 343, 56, 78, 90, 112, 34, 56, 78, 93])\n",
    "argmin_array1= np.argmin(argmin_array1) \n",
    "print(argmin_array1) # 1D => it's working in array wise"
   ]
  },
  {
   "cell_type": "markdown",
   "id": "0c3bca79",
   "metadata": {},
   "source": [
    "Split"
   ]
  },
  {
   "cell_type": "code",
   "execution_count": 134,
   "id": "bf22c389",
   "metadata": {},
   "outputs": [
    {
     "name": "stdout",
     "output_type": "stream",
     "text": [
      "[array([1, 2, 3]), array([4, 5, 6]), array([7, 8, 9])]\n"
     ]
    }
   ],
   "source": [
    "split_array = np.array([1, 2, 3, 4, 5, 6, 7, 8, 9])\n",
    "split_array = np.split(split_array, 3)\n",
    "print(split_array) # 3 array of 3 elements each"
   ]
  },
  {
   "cell_type": "markdown",
   "id": "f5b033a0",
   "metadata": {},
   "source": [
    "Dot Product"
   ]
  },
  {
   "cell_type": "code",
   "execution_count": 135,
   "id": "779bdb97",
   "metadata": {},
   "outputs": [
    {
     "name": "stdout",
     "output_type": "stream",
     "text": [
      "11\n"
     ]
    }
   ],
   "source": [
    "# dot_array = np.array([[1, 2 ],\n",
    "#                      [3, 4 ]]\n",
    "#                     )\n",
    "# print(dot_array.dot(dot_array)) # 3x3 matrix multiplication\n",
    "\n",
    "dor1 = np.array([1, 2])\n",
    "dor2 = np.array([3, 4])\n",
    "print(np.dot(dor1, dor2)) # 1x1 matrix multiplication"
   ]
  },
  {
   "cell_type": "markdown",
   "id": "6dbb9f69",
   "metadata": {},
   "source": [
    "Matrix Transpose"
   ]
  },
  {
   "cell_type": "code",
   "execution_count": 136,
   "id": "5dfe3cd4",
   "metadata": {},
   "outputs": [
    {
     "name": "stdout",
     "output_type": "stream",
     "text": [
      "[[1 5]\n",
      " [2 4]\n",
      " [3 3]]\n",
      "[[1 4]\n",
      " [2 5]\n",
      " [3 6]]\n",
      "Transpose of the matrix is:  [[1 2 3]\n",
      " [4 5 6]]\n"
     ]
    }
   ],
   "source": [
    "array = np.array(\n",
    "   [ [1, 2, 3 ],\n",
    "    [5, 4, 3]])\n",
    "print(array.transpose())\n",
    "\n",
    "Matrix_Transpose = np.array( \n",
    "   [ [1, 2, 3],\n",
    "      [4, 5, 6]])\n",
    "print(Matrix_Transpose.transpose())\n",
    "print(\"Transpose of the matrix is: \", Matrix_Transpose)\n",
    "\n"
   ]
  },
  {
   "cell_type": "markdown",
   "id": "6285a675",
   "metadata": {},
   "source": [
    "mean, median,std"
   ]
  },
  {
   "cell_type": "code",
   "execution_count": 155,
   "id": "d2321049",
   "metadata": {},
   "outputs": [
    {
     "name": "stdout",
     "output_type": "stream",
     "text": [
      "3\n",
      "3.0\n",
      "1.4142135623730951\n"
     ]
    }
   ],
   "source": [
    "mean = np.mean([1, 2, 3, 4, 5],\n",
    "               dtype=np.int32)\n",
    "print( mean )\n",
    "\n",
    "median = np.median([1, 3, 3, 4, 5],\n",
    "                 )\n",
    "print( median )#false\n",
    "\n",
    "std = np.std([1, 2, 3, 4, 5],\n",
    "               )  \n",
    "print( std ) # 1.4142"
   ]
  },
  {
   "cell_type": "markdown",
   "id": "68832ac9",
   "metadata": {},
   "source": [
    "Numpy filtering"
   ]
  },
  {
   "cell_type": "code",
   "execution_count": 157,
   "id": "67427644",
   "metadata": {},
   "outputs": [
    {
     "name": "stdout",
     "output_type": "stream",
     "text": [
      "[1 3 5]\n",
      "[2 4]\n"
     ]
    }
   ],
   "source": [
    "#Boolean method\n",
    "# 1. Using boolean indexing to filter elements\n",
    "my_array = np.array([1, 2, 3, 4, 5])\n",
    "filer_mask = [True, False, True, False, True]\n",
    "print(my_array[filer_mask]) # [1, 3, 5]\n",
    "\n",
    "my_array = np.array([1, 2, 3, 4, 5])\n",
    "filer_mask = my_array %2 == 0\n",
    "print(my_array[filer_mask]) # [2, 4]"
   ]
  },
  {
   "cell_type": "markdown",
   "id": "c8c8f046",
   "metadata": {},
   "source": [
    "Vectorization"
   ]
  },
  {
   "cell_type": "code",
   "execution_count": 158,
   "id": "a42c58d3",
   "metadata": {},
   "outputs": [
    {
     "name": "stdout",
     "output_type": "stream",
     "text": [
      "[4 5 6 7 8]\n"
     ]
    }
   ],
   "source": [
    "vector = np.array([1, 2, 3, 4, 5])\n",
    "vectorzition = vector + 3\n",
    "print(vectorzition) # [4, 5, 6, 7, 8]"
   ]
  },
  {
   "cell_type": "markdown",
   "id": "942fb519",
   "metadata": {},
   "source": [
    "Broadcasting"
   ]
  },
  {
   "cell_type": "code",
   "execution_count": null,
   "id": "87d62f69",
   "metadata": {},
   "outputs": [
    {
     "name": "stdout",
     "output_type": "stream",
     "text": [
      "[[ 3  7 11]\n",
      " [ 9 13 17]]\n"
     ]
    }
   ],
   "source": [
    "\n",
    "a1 = np.array([2, 4, 6])\n",
    "\n",
    "a2 = np.array([[1, 3, 5], \n",
    "               [7, 9, 11]])\n",
    "res = a1 + a2\n",
    "print(res)"
   ]
  },
  {
   "cell_type": "markdown",
   "id": "ffcdfbcb",
   "metadata": {},
   "source": [
    "Random"
   ]
  },
  {
   "cell_type": "code",
   "execution_count": 183,
   "id": "ae91af3c",
   "metadata": {},
   "outputs": [
    {
     "name": "stdout",
     "output_type": "stream",
     "text": [
      "[[0.31367278 0.54404083 0.05293683]\n",
      " [0.90691696 0.60708648 0.02883439]\n",
      " [0.70642256 0.28514076 0.57004479]]\n",
      "[[74 29  7]\n",
      " [79 52 80]\n",
      " [92 63 78]]\n",
      "[[ 6 44 10]\n",
      " [40 47 33]\n",
      " [23 21 27]]\n"
     ]
    }
   ],
   "source": [
    "print(np.random.rand(3, 3)) # 3x3 random array\n",
    "\n",
    "\n",
    "print(np.random.randint(100 ,size=(3, 3))) # 3x3 random array\n",
    "\n",
    "\n",
    "\n",
    "\n",
    "randint = np.random.randint(50, size=(3, 3))\n",
    "print(randint)# 3x3 random array\n",
    "\n"
   ]
  }
 ],
 "metadata": {
  "kernelspec": {
   "display_name": "Python 3",
   "language": "python",
   "name": "python3"
  },
  "language_info": {
   "codemirror_mode": {
    "name": "ipython",
    "version": 3
   },
   "file_extension": ".py",
   "mimetype": "text/x-python",
   "name": "python",
   "nbconvert_exporter": "python",
   "pygments_lexer": "ipython3",
   "version": "3.13.1"
  }
 },
 "nbformat": 4,
 "nbformat_minor": 5
}
