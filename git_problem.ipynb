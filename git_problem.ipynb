{
 "cells": [
  {
   "cell_type": "markdown",
   "id": "b83cd545",
   "metadata": {},
   "source": [
    "array slicing "
   ]
  },
  {
   "cell_type": "code",
   "execution_count": 1,
   "id": "8774ffca",
   "metadata": {},
   "outputs": [
    {
     "name": "stdout",
     "output_type": "stream",
     "text": [
      "[[5 9]\n",
      " [6 8]]\n"
     ]
    }
   ],
   "source": [
    "import numpy as np\n",
    "slc_array = np.array(\n",
    "   [[2,3,4,5],\n",
    "    [3,4,6,8],\n",
    "    [4,5,9,9],\n",
    "    [5,6,8,10]]\n",
    ")\n",
    "print (slc_array[2:4,1:3 ])"
   ]
  },
  {
   "cell_type": "code",
   "execution_count": 3,
   "id": "fe7f2b0b",
   "metadata": {},
   "outputs": [
    {
     "name": "stdout",
     "output_type": "stream",
     "text": [
      "[[6]\n",
      " [7]\n",
      " [8]]\n"
     ]
    }
   ],
   "source": [
    "import numpy as np\n",
    "slc_array = np.array(\n",
    "   [[2,3,4,5],\n",
    "    [3,4,6,8],\n",
    "    [4,5,7,9],\n",
    "    [5,6,8,10]]\n",
    ")\n",
    "print (slc_array[1:4,2:3 ])\n"
   ]
  },
  {
   "cell_type": "code",
   "execution_count": null,
   "id": "760b4d36",
   "metadata": {},
   "outputs": [
    {
     "name": "stdout",
     "output_type": "stream",
     "text": [
      "[[0. 0. 0. 0.]\n",
      " [0. 0. 0. 0.]\n",
      " [0. 0. 0. 0.]]\n"
     ]
    }
   ],
   "source": [
    "\n",
    "zero_array = np.zeros((3,4))\n",
    "print (zero_array)"
   ]
  }
 ],
 "metadata": {
  "kernelspec": {
   "display_name": "Python 3",
   "language": "python",
   "name": "python3"
  },
  "language_info": {
   "codemirror_mode": {
    "name": "ipython",
    "version": 3
   },
   "file_extension": ".py",
   "mimetype": "text/x-python",
   "name": "python",
   "nbconvert_exporter": "python",
   "pygments_lexer": "ipython3",
   "version": "3.13.1"
  }
 },
 "nbformat": 4,
 "nbformat_minor": 5
}
