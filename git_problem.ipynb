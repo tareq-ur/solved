{
 "cells": [
  {
   "cell_type": "code",
   "execution_count": 1,
   "id": "0110807b",
   "metadata": {},
   "outputs": [
    {
     "name": "stdout",
     "output_type": "stream",
     "text": [
      "[[5 7]\n",
      " [6 8]]\n"
     ]
    }
   ],
   "source": [
    "import numpy as np\n",
    "slc_array = np.array(\n",
    "   [[2,3,4,5],\n",
    "    [3,4,6,8],\n",
    "    [4,5,7,9],\n",
    "    [5,6,8,10]]\n",
    ")\n",
    "print (slc_array[2:4,1:3 ])"
   ]
  }
 ],
 "metadata": {
  "kernelspec": {
   "display_name": "Python 3",
   "language": "python",
   "name": "python3"
  },
  "language_info": {
   "codemirror_mode": {
    "name": "ipython",
    "version": 3
   },
   "file_extension": ".py",
   "mimetype": "text/x-python",
   "name": "python",
   "nbconvert_exporter": "python",
   "pygments_lexer": "ipython3",
   "version": "3.13.1"
  }
 },
 "nbformat": 4,
 "nbformat_minor": 5
}
