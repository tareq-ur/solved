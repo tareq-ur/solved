{
 "cells": [
  {
   "cell_type": "markdown",
   "id": "d58078ff",
   "metadata": {},
   "source": [
    "Reshape"
   ]
  },
  {
   "cell_type": "code",
   "execution_count": null,
   "id": "f21f14fd",
   "metadata": {},
   "outputs": [
    {
     "name": "stdout",
     "output_type": "stream",
     "text": [
      "[[ 1  2  3  4  5]\n",
      " [ 6  7  8  9 10]\n",
      " [11 12 13 14 15]]\n",
      "(3, 5)\n",
      "[[ 1  2  3]\n",
      " [ 4  5  6]\n",
      " [ 7  8  9]\n",
      " [10 11 12]\n",
      " [13 14 15]]\n",
      "(3, 5)\n",
      "[[[ 1  2  3  4  5]\n",
      "  [ 6  7  8  9 10]\n",
      "  [11 12 13 14 15]]]\n"
     ]
    }
   ],
   "source": [
    "import numpy as np\n",
    "# Create a  array with 15 elements\n",
    "reshape_array = np.array(\n",
    "    [[1,2,3,4,5],\n",
    "     [6,7,8,9,10],\n",
    "     [11,12,13,14,15,]])\n",
    "\n",
    "print(reshape_array)\n",
    "print(reshape_array.shape) \n",
    "\n",
    "\n",
    "# print(reshape_array.ndim)\n",
    "# print(reshape_array.size)\n",
    "# print(reshape_array.dtype)\n",
    "\n",
    "\n",
    "# Reshape the array to 5 rows and 3 columns 2 dimension to 2 dimension\n",
    "print(reshape_array.reshape(5,3))  \n",
    "print(reshape_array.shape)\n",
    "\n",
    "\n",
    "\n",
    "\n",
    "# Reshape the array to 3 rows and 5 columns 2 dimension to 3 dimension\n",
    "print(reshape_array.reshape(1,3,5))     \n",
    "\n",
    "\n",
    "\n",
    "\n",
    "\n",
    "\n"
   ]
  },
  {
   "cell_type": "code",
   "execution_count": null,
   "id": "f8dc7ba6",
   "metadata": {},
   "outputs": [
    {
     "name": "stdout",
     "output_type": "stream",
     "text": [
      "[[[[1. 1. 1.]\n",
      "   [1. 1. 1.]]\n",
      "\n",
      "  [[1. 1. 1.]\n",
      "   [1. 1. 1.]]]\n",
      "\n",
      "\n",
      " [[[1. 1. 1.]\n",
      "   [1. 1. 1.]]\n",
      "\n",
      "  [[1. 1. 1.]\n",
      "   [1. 1. 1.]]]\n",
      "\n",
      "\n",
      " [[[1. 1. 1.]\n",
      "   [1. 1. 1.]]\n",
      "\n",
      "  [[1. 1. 1.]\n",
      "   [1. 1. 1.]]]\n",
      "\n",
      "\n",
      " [[[1. 1. 1.]\n",
      "   [1. 1. 1.]]\n",
      "\n",
      "  [[1. 1. 1.]\n",
      "   [1. 1. 1.]]]]\n",
      "[[[1. 1. 1. 1. 1. 1. 1. 1. 1. 1. 1. 1.]\n",
      "  [1. 1. 1. 1. 1. 1. 1. 1. 1. 1. 1. 1.]]\n",
      "\n",
      " [[1. 1. 1. 1. 1. 1. 1. 1. 1. 1. 1. 1.]\n",
      "  [1. 1. 1. 1. 1. 1. 1. 1. 1. 1. 1. 1.]]]\n"
     ]
    }
   ],
   "source": [
    "#reshaping with negetive value\n",
    "one_array = np.ones(\n",
    "    shape=(4,2,2,3)\n",
    ")\n",
    "print(one_array) # (4, 2, 2, 3)\n",
    "\n",
    "# Reshape the 4D array to 3D array with 2 rows and 2 columns\n",
    "reshape_array = one_array.reshape(2,2,-1) # -1 means it will be calculated automatically\t\n",
    "print(reshape_array) # (2, 2, 12)\n",
    "\n",
    "print(reshape_array.shape) # (2, 2, 12)\n",
    "print(reshape_array.ndim) # 3D array"
   ]
  },
  {
   "cell_type": "code",
   "execution_count": null,
   "id": "ccdda590",
   "metadata": {},
   "outputs": [],
   "source": []
  }
 ],
 "metadata": {
  "kernelspec": {
   "display_name": "Python 3",
   "language": "python",
   "name": "python3"
  },
  "language_info": {
   "codemirror_mode": {
    "name": "ipython",
    "version": 3
   },
   "file_extension": ".py",
   "mimetype": "text/x-python",
   "name": "python",
   "nbconvert_exporter": "python",
   "pygments_lexer": "ipython3",
   "version": "3.13.1"
  }
 },
 "nbformat": 4,
 "nbformat_minor": 5
}
