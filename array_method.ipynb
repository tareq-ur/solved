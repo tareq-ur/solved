{
 "cells": [
  {
   "cell_type": "markdown",
   "id": "d58078ff",
   "metadata": {},
   "source": [
    "Reshape"
   ]
  },
  {
   "cell_type": "markdown",
   "id": "4b0ce4cd",
   "metadata": {},
   "source": [
    "numpy Useful method "
   ]
  },
  {
   "cell_type": "code",
   "execution_count": 18,
   "id": "15832598",
   "metadata": {},
   "outputs": [
    {
     "name": "stdout",
     "output_type": "stream",
     "text": [
      "[[ 1  2  3  4  5]\n",
      " [ 6  7  8  9 10]\n",
      " [11 12 13 14 15]]\n",
      "(3, 5)\n",
      "[[ 1  2  3]\n",
      " [ 4  5  6]\n",
      " [ 7  8  9]\n",
      " [10 11 12]\n",
      " [13 14 15]]\n",
      "(3, 5)\n",
      "[[[ 1  2  3  4  5]\n",
      "  [ 6  7  8  9 10]\n",
      "  [11 12 13 14 15]]]\n",
      "(3, 5)\n"
     ]
    }
   ],
   "source": [
    "import numpy as np\n",
    "# Create a  array with 15 elements\n",
    "reshape_array = np.array(\n",
    "    [[1,2,3,4,5],\n",
    "     [6,7,8,9,10],\n",
    "     [11,12,13,14,15,]])\n",
    "\n",
    "print(reshape_array)\n",
    "print(reshape_array.shape) \n",
    "\n",
    "\n",
    "# print(reshape_array.ndim)\n",
    "# print(reshape_array.size)\n",
    "# print(reshape_array.dtype)\n",
    "\n",
    "\n",
    "# Reshape the array to 5 rows and 3 columns 2 dimension to 2 dimension\n",
    "print(reshape_array.reshape(5,3))  \n",
    "print(reshape_array.shape)\n",
    "\n",
    "\n",
    "\n",
    "\n",
    "# Reshape the array to 3 rows and 5 columns 2 dimension to 3 dimension\n",
    "print(reshape_array.reshape(1,3,5))     \n",
    "print(reshape_array.shape)"
   ]
  },
  {
   "cell_type": "code",
   "execution_count": 10,
   "id": "f8dc7ba6",
   "metadata": {},
   "outputs": [
    {
     "name": "stdout",
     "output_type": "stream",
     "text": [
      "[[[[1. 1. 1.]\n",
      "   [1. 1. 1.]]\n",
      "\n",
      "  [[1. 1. 1.]\n",
      "   [1. 1. 1.]]]\n",
      "\n",
      "\n",
      " [[[1. 1. 1.]\n",
      "   [1. 1. 1.]]\n",
      "\n",
      "  [[1. 1. 1.]\n",
      "   [1. 1. 1.]]]\n",
      "\n",
      "\n",
      " [[[1. 1. 1.]\n",
      "   [1. 1. 1.]]\n",
      "\n",
      "  [[1. 1. 1.]\n",
      "   [1. 1. 1.]]]\n",
      "\n",
      "\n",
      " [[[1. 1. 1.]\n",
      "   [1. 1. 1.]]\n",
      "\n",
      "  [[1. 1. 1.]\n",
      "   [1. 1. 1.]]]]\n",
      "[[[1. 1. 1. 1. 1. 1. 1. 1. 1. 1. 1. 1.]\n",
      "  [1. 1. 1. 1. 1. 1. 1. 1. 1. 1. 1. 1.]]\n",
      "\n",
      " [[1. 1. 1. 1. 1. 1. 1. 1. 1. 1. 1. 1.]\n",
      "  [1. 1. 1. 1. 1. 1. 1. 1. 1. 1. 1. 1.]]]\n",
      "(2, 2, 12)\n",
      "3\n"
     ]
    }
   ],
   "source": [
    "#reshaping with negetive value\n",
    "one_array = np.ones(\n",
    "    shape=(4,2,2,3)\n",
    ")\n",
    "print(one_array) # (4, 2, 2, 3)\n",
    "\n",
    "# Reshape the 4D array to 3D array with 2 rows and 2 columns\n",
    "reshape_array = one_array.reshape(2,2,-1) # -1 means it will be calculated automatically\t\n",
    "print(reshape_array) # (2, 2, 12)\n",
    "\n",
    "print(reshape_array.shape) # (2, 2, 12)\n",
    "print(reshape_array.ndim) # 3D array"
   ]
  },
  {
   "cell_type": "code",
   "execution_count": 11,
   "id": "ccdda590",
   "metadata": {},
   "outputs": [
    {
     "name": "stdout",
     "output_type": "stream",
     "text": [
      "[[4.9e-324 9.9e-324 1.5e-323]\n",
      " [2.0e-323 2.5e-323 3.0e-323]\n",
      " [3.5e-323 4.0e-323 4.4e-323]\n",
      " [4.9e-323 5.4e-323 5.9e-323]\n",
      " [6.4e-323 6.9e-323 7.4e-323]]\n"
     ]
    }
   ],
   "source": [
    "funtion_random = np.empty(\n",
    "    (5,3)) # 4 rows and 4 columns)\n",
    "print(funtion_random)"
   ]
  },
  {
   "cell_type": "code",
   "execution_count": null,
   "id": "a7c6a883",
   "metadata": {},
   "outputs": [
    {
     "name": "stdout",
     "output_type": "stream",
     "text": [
      "[[4.9e-324 9.9e-324 1.5e-323]\n",
      " [2.0e-323 2.5e-323 3.0e-323]\n",
      " [3.5e-323 4.0e-323 4.4e-323]\n",
      " [4.9e-323 5.4e-323 5.9e-323]\n",
      " [6.4e-323 6.9e-323 7.4e-323]]\n"
     ]
    }
   ],
   "source": [
    "# save_array = np.save('array.npy', funtion_random) # save the array to a file\n",
    "# save_array = np.savez('array.npy', funtion_random)\n",
    "\n",
    "# load_array = np.load('array.npy') # load the array from the file\n",
    "# print(load_array) # print the loaded array\n",
    "# # print the shape of the loaded array   \n"
   ]
  },
  {
   "cell_type": "code",
   "execution_count": 13,
   "id": "cd1846b3",
   "metadata": {},
   "outputs": [
    {
     "name": "stdout",
     "output_type": "stream",
     "text": [
      "3\n",
      "int64\n"
     ]
    }
   ],
   "source": [
    "len_array = np.array(\n",
    "    [[1,2,3,4,5],\n",
    "    [6,7,8,9,10],\n",
    "    [11,12,13,14,15]])\n",
    "print(len(len_array)) \n",
    "print(len_array.dtype) # <class 'list'>"
   ]
  },
  {
   "cell_type": "code",
   "execution_count": 14,
   "id": "a43f6429",
   "metadata": {},
   "outputs": [
    {
     "name": "stdout",
     "output_type": "stream",
     "text": [
      "int64\n"
     ]
    }
   ],
   "source": [
    "array = np.array(\n",
    "    [[1,2,3,4,5],\n",
    "     [6,7,8,9,10],\n",
    "     [11,12,13,14,15]])\n",
    "\n",
    "print(array.dtype) # <class 'numpy.ndarray'>"
   ]
  },
  {
   "cell_type": "code",
   "execution_count": 15,
   "id": "f5ce8573",
   "metadata": {},
   "outputs": [
    {
     "name": "stdout",
     "output_type": "stream",
     "text": [
      "[[ 1  2  3]\n",
      " [ 4  5  6]\n",
      " [ 7  8  9]\n",
      " [10 11 12]\n",
      " [13 14 15]]\n"
     ]
    }
   ],
   "source": [
    "array = np.array([1,2,3,4,5,6,7,8,9,10,11,12,13,14,15])\n",
    "reshape = array.reshape(5,3)\n",
    "print(reshape) # (5, 3)\n"
   ]
  },
  {
   "cell_type": "code",
   "execution_count": 19,
   "id": "af70643d",
   "metadata": {},
   "outputs": [
    {
     "name": "stdout",
     "output_type": "stream",
     "text": [
      "15\n",
      "int64\n"
     ]
    }
   ],
   "source": [
    "len_array = np.array(\n",
    "    [1,2,3,4,5,6,7,8,9,10,\n",
    "    11,12,13,14,15])\n",
    "print(len(len_array)) \n",
    "print(len_array.dtype) # <class 'list'>"
   ]
  },
  {
   "cell_type": "markdown",
   "id": "a7dc26b2",
   "metadata": {},
   "source": [
    "Sort"
   ]
  },
  {
   "cell_type": "code",
   "execution_count": 34,
   "id": "ec32124a",
   "metadata": {},
   "outputs": [
    {
     "name": "stdout",
     "output_type": "stream",
     "text": [
      "[1 2 3 4 5 6 7 8 9]\n",
      "[9 8 7 6 5 4 3 2 1]\n"
     ]
    }
   ],
   "source": [
    "#sorting the array\n",
    "sort_array = np.array([4,2,8,9,1,3,5,7,6])\n",
    "sort_array.sort() # sort the array in ascending order\n",
    "print(sort_array) # [1 2 3 4 5 6 7 8 9]\n",
    "reverse_sort = np.sort(sort_array)[::-1] # sort the array in descending order\n",
    "print(reverse_sort) # [9 8 7 6 5 4 3 2 1]\n",
    "\n",
    "\n"
   ]
  },
  {
   "cell_type": "code",
   "execution_count": 36,
   "id": "17851934",
   "metadata": {},
   "outputs": [
    {
     "name": "stdout",
     "output_type": "stream",
     "text": [
      "[9 8 7 6 5 4 3 2 1]\n"
     ]
    }
   ],
   "source": [
    "#reversing sort the array\n",
    "reverse_array = np.array([4,2,8,9,1,3,5,7,6])\n",
    "# reverse_array.sort()  # sort the array in descending order\n",
    "# reverse_sort_array = reverse_array[::-1] # reverse the array\n",
    "# print(reverse_sort_array) # [9 8 7 6 5 4 3 2 1]\n",
    "reverse_array = np.sort(reverse_array)[::-1] # sort the array in descending order\n",
    "print(reverse_array) # [9 8 7 6 5 4 3 2 1]"
   ]
  }
 ],
 "metadata": {
  "kernelspec": {
   "display_name": "Python 3",
   "language": "python",
   "name": "python3"
  },
  "language_info": {
   "codemirror_mode": {
    "name": "ipython",
    "version": 3
   },
   "file_extension": ".py",
   "mimetype": "text/x-python",
   "name": "python",
   "nbconvert_exporter": "python",
   "pygments_lexer": "ipython3",
   "version": "3.13.1"
  }
 },
 "nbformat": 4,
 "nbformat_minor": 5
}
